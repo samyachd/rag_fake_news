{
 "cells": [
  {
   "cell_type": "markdown",
   "id": "d6c89275",
   "metadata": {},
   "source": [
    "# Data Preprocessing"
   ]
  },
  {
   "cell_type": "code",
   "execution_count": 1,
   "id": "51863d1f",
   "metadata": {},
   "outputs": [],
   "source": [
    "import pandas as pd\n",
    "import numpy as np"
   ]
  },
  {
   "cell_type": "markdown",
   "id": "fe6ab467",
   "metadata": {},
   "source": [
    "### Chargement des données True et Fake"
   ]
  },
  {
   "cell_type": "code",
   "execution_count": 2,
   "id": "942faa97",
   "metadata": {},
   "outputs": [
    {
     "name": "stdout",
     "output_type": "stream",
     "text": [
      "                                               title  \\\n",
      "0  As U.S. budget fight looms, Republicans flip t...   \n",
      "1  U.S. military to accept transgender recruits o...   \n",
      "2  Senior U.S. Republican senator: 'Let Mr. Muell...   \n",
      "3  FBI Russia probe helped by Australian diplomat...   \n",
      "4  Trump wants Postal Service to charge 'much mor...   \n",
      "\n",
      "                                                text       subject  \\\n",
      "0  WASHINGTON (Reuters) - The head of a conservat...  politicsNews   \n",
      "1  WASHINGTON (Reuters) - Transgender people will...  politicsNews   \n",
      "2  WASHINGTON (Reuters) - The special counsel inv...  politicsNews   \n",
      "3  WASHINGTON (Reuters) - Trump campaign adviser ...  politicsNews   \n",
      "4  SEATTLE/WASHINGTON (Reuters) - President Donal...  politicsNews   \n",
      "\n",
      "                 date  \n",
      "0  December 31, 2017   \n",
      "1  December 29, 2017   \n",
      "2  December 31, 2017   \n",
      "3  December 30, 2017   \n",
      "4  December 29, 2017   \n",
      "                                               title  \\\n",
      "0   Donald Trump Sends Out Embarrassing New Year’...   \n",
      "1   Drunk Bragging Trump Staffer Started Russian ...   \n",
      "2   Sheriff David Clarke Becomes An Internet Joke...   \n",
      "3   Trump Is So Obsessed He Even Has Obama’s Name...   \n",
      "4   Pope Francis Just Called Out Donald Trump Dur...   \n",
      "\n",
      "                                                text subject  \\\n",
      "0  Donald Trump just couldn t wish all Americans ...    News   \n",
      "1  House Intelligence Committee Chairman Devin Nu...    News   \n",
      "2  On Friday, it was revealed that former Milwauk...    News   \n",
      "3  On Christmas day, Donald Trump announced that ...    News   \n",
      "4  Pope Francis used his annual Christmas Day mes...    News   \n",
      "\n",
      "                date  \n",
      "0  December 31, 2017  \n",
      "1  December 31, 2017  \n",
      "2  December 30, 2017  \n",
      "3  December 29, 2017  \n",
      "4  December 25, 2017  \n",
      "                                               title  \\\n",
      "0  As U.S. budget fight looms, Republicans flip t...   \n",
      "1  U.S. military to accept transgender recruits o...   \n",
      "\n",
      "                                                text       subject  \\\n",
      "0  WASHINGTON (Reuters) - The head of a conservat...  politicsNews   \n",
      "1  WASHINGTON (Reuters) - Transgender people will...  politicsNews   \n",
      "\n",
      "                 date label  \n",
      "0  December 31, 2017   True  \n",
      "1  December 29, 2017   True  \n"
     ]
    }
   ],
   "source": [
    "# Chargement des données csv \n",
    "df_true = pd.read_csv('/home/fadilatou/PROJETS/rag_fake_news/data/True.csv')\n",
    "df_fake = pd.read_csv('/home/fadilatou/PROJETS/rag_fake_news/data/Fake.csv')\n",
    "# Affichage\n",
    "print(df_true.head())\n",
    "print(df_fake.head())\n",
    "\n",
    "# Création de la colonne label\n",
    "df_true[\"label\"] = \"True\"\n",
    "df_fake[\"label\"] = \"Fake\"\n",
    "\n",
    "# Fusionner les deux datasets\n",
    "df = pd.concat([df_true, df_fake], ignore_index=True)\n",
    "\n",
    "# Afficher les premières lignes\n",
    "print(df.head(2))"
   ]
  },
  {
   "cell_type": "markdown",
   "id": "eb26f1bf",
   "metadata": {},
   "source": [
    "###  Exploration de données "
   ]
  },
  {
   "cell_type": "code",
   "execution_count": 3,
   "id": "550ce66a",
   "metadata": {},
   "outputs": [
    {
     "name": "stdout",
     "output_type": "stream",
     "text": [
      "(44898, 5)\n",
      " types de données: title      object\n",
      "text       object\n",
      "subject    object\n",
      "date       object\n",
      "label      object\n",
      "dtype: object\n",
      "Valeur du label: label\n",
      "Fake    23481\n",
      "True    21417\n",
      "Name: count, dtype: int64\n"
     ]
    }
   ],
   "source": [
    "# Les dimensions de chaque df\n",
    "print(df.shape)\n",
    "\n",
    "# Les types de données\n",
    "print(f\" types de données:\",df.dtypes)\n",
    "# Les valeurs de la colonne labels\n",
    "print(f\"Valeur du label:\",df['label'].value_counts())\n"
   ]
  },
  {
   "cell_type": "markdown",
   "id": "c5a0148f",
   "metadata": {},
   "source": [
    "### Nettoyage du Dataset"
   ]
  },
  {
   "cell_type": "code",
   "execution_count": 4,
   "id": "f7d14878",
   "metadata": {},
   "outputs": [
    {
     "name": "stdout",
     "output_type": "stream",
     "text": [
      "Les valeurs manquantes : title      0\n",
      "text       0\n",
      "subject    0\n",
      "date       0\n",
      "label      0\n",
      "dtype: int64\n",
      "Nombre de doublons: 209\n",
      ".csv après nettoyage :\n",
      "Doublons restants : 0\n"
     ]
    }
   ],
   "source": [
    "# # # La somme des valeurs manquantes\n",
    "print(f\"Les valeurs manquantes :\", df.isnull().sum())\n",
    "\n",
    "# # Détection des doublons\n",
    "print(f\"Nombre de doublons:\", df.duplicated().sum())\n",
    "\n",
    "# Supprimer les doublons\n",
    "df = df.drop_duplicates(subset=['title', 'text'])\n",
    "\n",
    "# Vérification\n",
    "print(\".csv après nettoyage :\")\n",
    "print(\"Doublons restants :\", df.duplicated(subset=['title', 'text']).sum())\n"
   ]
  },
  {
   "cell_type": "code",
   "execution_count": 5,
   "id": "85ca00cf",
   "metadata": {},
   "outputs": [],
   "source": [
    "# # Sauvegarde du dataset propre \n",
    "# df.to_csv(\"/home/fadilatou/PROJETS/rag_fake_news/data/news_clean.csv\", index=False)"
   ]
  },
  {
   "cell_type": "markdown",
   "id": "3b36b035",
   "metadata": {},
   "source": [
    "### Application des fonction de nettoyage sur les colonnes text et title"
   ]
  },
  {
   "cell_type": "code",
   "execution_count": 6,
   "id": "ba4aa654",
   "metadata": {},
   "outputs": [
    {
     "name": "stdout",
     "output_type": "stream",
     "text": [
      "fake news politics\n"
     ]
    }
   ],
   "source": [
    "from test_cleaning import clean_text_pipeline\n",
    "\n",
    "# Test de fonction de nettoyage\n",
    "df[\"text\"] = df[\"text\"].apply(clean_text_pipeline)\n",
    "df[\"title\"] = df[\"title\"].apply(clean_text_pipeline)"
   ]
  },
  {
   "cell_type": "markdown",
   "id": "b49a8c9b",
   "metadata": {},
   "source": [
    "### Chunkings : Découpage des données de la colonne text"
   ]
  },
  {
   "cell_type": "code",
   "execution_count": 39,
   "id": "3d9d6b08",
   "metadata": {},
   "outputs": [
    {
     "ename": "AttributeError",
     "evalue": "'list' object has no attribute 'split'",
     "output_type": "error",
     "traceback": [
      "\u001b[31m---------------------------------------------------------------------------\u001b[39m",
      "\u001b[31mAttributeError\u001b[39m                            Traceback (most recent call last)",
      "\u001b[36mCell\u001b[39m\u001b[36m \u001b[39m\u001b[32mIn[39]\u001b[39m\u001b[32m, line 20\u001b[39m\n\u001b[32m     17\u001b[39m     \u001b[38;5;28;01mreturn\u001b[39;00m chunks\n\u001b[32m     19\u001b[39m \u001b[38;5;66;03m# Application du chunking\u001b[39;00m\n\u001b[32m---> \u001b[39m\u001b[32m20\u001b[39m df[\u001b[33m'\u001b[39m\u001b[33mtext\u001b[39m\u001b[33m'\u001b[39m] = \u001b[43mdf\u001b[49m\u001b[43m[\u001b[49m\u001b[33;43m'\u001b[39;49m\u001b[33;43mtext\u001b[39;49m\u001b[33;43m'\u001b[39;49m\u001b[43m]\u001b[49m\u001b[43m.\u001b[49m\u001b[43mapply\u001b[49m\u001b[43m(\u001b[49m\u001b[38;5;28;43;01mlambda\u001b[39;49;00m\u001b[43m \u001b[49m\u001b[43mx\u001b[49m\u001b[43m:\u001b[49m\u001b[43m \u001b[49m\u001b[43mchunk_text\u001b[49m\u001b[43m(\u001b[49m\u001b[43mx\u001b[49m\u001b[43m,\u001b[49m\u001b[43m \u001b[49m\u001b[43mchunk_size\u001b[49m\u001b[43m=\u001b[49m\u001b[32;43m200\u001b[39;49m\u001b[43m,\u001b[49m\u001b[43m \u001b[49m\u001b[43moverlap\u001b[49m\u001b[43m=\u001b[49m\u001b[32;43m50\u001b[39;49m\u001b[43m)\u001b[49m\u001b[43m)\u001b[49m\n\u001b[32m     21\u001b[39m display(df[\u001b[33m\"\u001b[39m\u001b[33mtext\u001b[39m\u001b[33m\"\u001b[39m].head())\n",
      "\u001b[36mFile \u001b[39m\u001b[32m~/PROJETS/rag_fake_news/.venv/lib/python3.12/site-packages/pandas/core/series.py:4943\u001b[39m, in \u001b[36mSeries.apply\u001b[39m\u001b[34m(self, func, convert_dtype, args, by_row, **kwargs)\u001b[39m\n\u001b[32m   4808\u001b[39m \u001b[38;5;28;01mdef\u001b[39;00m\u001b[38;5;250m \u001b[39m\u001b[34mapply\u001b[39m(\n\u001b[32m   4809\u001b[39m     \u001b[38;5;28mself\u001b[39m,\n\u001b[32m   4810\u001b[39m     func: AggFuncType,\n\u001b[32m   (...)\u001b[39m\u001b[32m   4815\u001b[39m     **kwargs,\n\u001b[32m   4816\u001b[39m ) -> DataFrame | Series:\n\u001b[32m   4817\u001b[39m \u001b[38;5;250m    \u001b[39m\u001b[33;03m\"\"\"\u001b[39;00m\n\u001b[32m   4818\u001b[39m \u001b[33;03m    Invoke function on values of Series.\u001b[39;00m\n\u001b[32m   4819\u001b[39m \n\u001b[32m   (...)\u001b[39m\u001b[32m   4934\u001b[39m \u001b[33;03m    dtype: float64\u001b[39;00m\n\u001b[32m   4935\u001b[39m \u001b[33;03m    \"\"\"\u001b[39;00m\n\u001b[32m   4936\u001b[39m     \u001b[38;5;28;01mreturn\u001b[39;00m \u001b[43mSeriesApply\u001b[49m\u001b[43m(\u001b[49m\n\u001b[32m   4937\u001b[39m \u001b[43m        \u001b[49m\u001b[38;5;28;43mself\u001b[39;49m\u001b[43m,\u001b[49m\n\u001b[32m   4938\u001b[39m \u001b[43m        \u001b[49m\u001b[43mfunc\u001b[49m\u001b[43m,\u001b[49m\n\u001b[32m   4939\u001b[39m \u001b[43m        \u001b[49m\u001b[43mconvert_dtype\u001b[49m\u001b[43m=\u001b[49m\u001b[43mconvert_dtype\u001b[49m\u001b[43m,\u001b[49m\n\u001b[32m   4940\u001b[39m \u001b[43m        \u001b[49m\u001b[43mby_row\u001b[49m\u001b[43m=\u001b[49m\u001b[43mby_row\u001b[49m\u001b[43m,\u001b[49m\n\u001b[32m   4941\u001b[39m \u001b[43m        \u001b[49m\u001b[43margs\u001b[49m\u001b[43m=\u001b[49m\u001b[43margs\u001b[49m\u001b[43m,\u001b[49m\n\u001b[32m   4942\u001b[39m \u001b[43m        \u001b[49m\u001b[43mkwargs\u001b[49m\u001b[43m=\u001b[49m\u001b[43mkwargs\u001b[49m\u001b[43m,\u001b[49m\n\u001b[32m-> \u001b[39m\u001b[32m4943\u001b[39m \u001b[43m    \u001b[49m\u001b[43m)\u001b[49m\u001b[43m.\u001b[49m\u001b[43mapply\u001b[49m\u001b[43m(\u001b[49m\u001b[43m)\u001b[49m\n",
      "\u001b[36mFile \u001b[39m\u001b[32m~/PROJETS/rag_fake_news/.venv/lib/python3.12/site-packages/pandas/core/apply.py:1422\u001b[39m, in \u001b[36mSeriesApply.apply\u001b[39m\u001b[34m(self)\u001b[39m\n\u001b[32m   1419\u001b[39m     \u001b[38;5;28;01mreturn\u001b[39;00m \u001b[38;5;28mself\u001b[39m.apply_compat()\n\u001b[32m   1421\u001b[39m \u001b[38;5;66;03m# self.func is Callable\u001b[39;00m\n\u001b[32m-> \u001b[39m\u001b[32m1422\u001b[39m \u001b[38;5;28;01mreturn\u001b[39;00m \u001b[38;5;28;43mself\u001b[39;49m\u001b[43m.\u001b[49m\u001b[43mapply_standard\u001b[49m\u001b[43m(\u001b[49m\u001b[43m)\u001b[49m\n",
      "\u001b[36mFile \u001b[39m\u001b[32m~/PROJETS/rag_fake_news/.venv/lib/python3.12/site-packages/pandas/core/apply.py:1502\u001b[39m, in \u001b[36mSeriesApply.apply_standard\u001b[39m\u001b[34m(self)\u001b[39m\n\u001b[32m   1496\u001b[39m \u001b[38;5;66;03m# row-wise access\u001b[39;00m\n\u001b[32m   1497\u001b[39m \u001b[38;5;66;03m# apply doesn't have a `na_action` keyword and for backward compat reasons\u001b[39;00m\n\u001b[32m   1498\u001b[39m \u001b[38;5;66;03m# we need to give `na_action=\"ignore\"` for categorical data.\u001b[39;00m\n\u001b[32m   1499\u001b[39m \u001b[38;5;66;03m# TODO: remove the `na_action=\"ignore\"` when that default has been changed in\u001b[39;00m\n\u001b[32m   1500\u001b[39m \u001b[38;5;66;03m#  Categorical (GH51645).\u001b[39;00m\n\u001b[32m   1501\u001b[39m action = \u001b[33m\"\u001b[39m\u001b[33mignore\u001b[39m\u001b[33m\"\u001b[39m \u001b[38;5;28;01mif\u001b[39;00m \u001b[38;5;28misinstance\u001b[39m(obj.dtype, CategoricalDtype) \u001b[38;5;28;01melse\u001b[39;00m \u001b[38;5;28;01mNone\u001b[39;00m\n\u001b[32m-> \u001b[39m\u001b[32m1502\u001b[39m mapped = \u001b[43mobj\u001b[49m\u001b[43m.\u001b[49m\u001b[43m_map_values\u001b[49m\u001b[43m(\u001b[49m\n\u001b[32m   1503\u001b[39m \u001b[43m    \u001b[49m\u001b[43mmapper\u001b[49m\u001b[43m=\u001b[49m\u001b[43mcurried\u001b[49m\u001b[43m,\u001b[49m\u001b[43m \u001b[49m\u001b[43mna_action\u001b[49m\u001b[43m=\u001b[49m\u001b[43maction\u001b[49m\u001b[43m,\u001b[49m\u001b[43m \u001b[49m\u001b[43mconvert\u001b[49m\u001b[43m=\u001b[49m\u001b[38;5;28;43mself\u001b[39;49m\u001b[43m.\u001b[49m\u001b[43mconvert_dtype\u001b[49m\n\u001b[32m   1504\u001b[39m \u001b[43m\u001b[49m\u001b[43m)\u001b[49m\n\u001b[32m   1506\u001b[39m \u001b[38;5;28;01mif\u001b[39;00m \u001b[38;5;28mlen\u001b[39m(mapped) \u001b[38;5;129;01mand\u001b[39;00m \u001b[38;5;28misinstance\u001b[39m(mapped[\u001b[32m0\u001b[39m], ABCSeries):\n\u001b[32m   1507\u001b[39m     \u001b[38;5;66;03m# GH#43986 Need to do list(mapped) in order to get treated as nested\u001b[39;00m\n\u001b[32m   1508\u001b[39m     \u001b[38;5;66;03m#  See also GH#25959 regarding EA support\u001b[39;00m\n\u001b[32m   1509\u001b[39m     \u001b[38;5;28;01mreturn\u001b[39;00m obj._constructor_expanddim(\u001b[38;5;28mlist\u001b[39m(mapped), index=obj.index)\n",
      "\u001b[36mFile \u001b[39m\u001b[32m~/PROJETS/rag_fake_news/.venv/lib/python3.12/site-packages/pandas/core/base.py:925\u001b[39m, in \u001b[36mIndexOpsMixin._map_values\u001b[39m\u001b[34m(self, mapper, na_action, convert)\u001b[39m\n\u001b[32m    922\u001b[39m \u001b[38;5;28;01mif\u001b[39;00m \u001b[38;5;28misinstance\u001b[39m(arr, ExtensionArray):\n\u001b[32m    923\u001b[39m     \u001b[38;5;28;01mreturn\u001b[39;00m arr.map(mapper, na_action=na_action)\n\u001b[32m--> \u001b[39m\u001b[32m925\u001b[39m \u001b[38;5;28;01mreturn\u001b[39;00m \u001b[43malgorithms\u001b[49m\u001b[43m.\u001b[49m\u001b[43mmap_array\u001b[49m\u001b[43m(\u001b[49m\u001b[43marr\u001b[49m\u001b[43m,\u001b[49m\u001b[43m \u001b[49m\u001b[43mmapper\u001b[49m\u001b[43m,\u001b[49m\u001b[43m \u001b[49m\u001b[43mna_action\u001b[49m\u001b[43m=\u001b[49m\u001b[43mna_action\u001b[49m\u001b[43m,\u001b[49m\u001b[43m \u001b[49m\u001b[43mconvert\u001b[49m\u001b[43m=\u001b[49m\u001b[43mconvert\u001b[49m\u001b[43m)\u001b[49m\n",
      "\u001b[36mFile \u001b[39m\u001b[32m~/PROJETS/rag_fake_news/.venv/lib/python3.12/site-packages/pandas/core/algorithms.py:1743\u001b[39m, in \u001b[36mmap_array\u001b[39m\u001b[34m(arr, mapper, na_action, convert)\u001b[39m\n\u001b[32m   1741\u001b[39m values = arr.astype(\u001b[38;5;28mobject\u001b[39m, copy=\u001b[38;5;28;01mFalse\u001b[39;00m)\n\u001b[32m   1742\u001b[39m \u001b[38;5;28;01mif\u001b[39;00m na_action \u001b[38;5;129;01mis\u001b[39;00m \u001b[38;5;28;01mNone\u001b[39;00m:\n\u001b[32m-> \u001b[39m\u001b[32m1743\u001b[39m     \u001b[38;5;28;01mreturn\u001b[39;00m \u001b[43mlib\u001b[49m\u001b[43m.\u001b[49m\u001b[43mmap_infer\u001b[49m\u001b[43m(\u001b[49m\u001b[43mvalues\u001b[49m\u001b[43m,\u001b[49m\u001b[43m \u001b[49m\u001b[43mmapper\u001b[49m\u001b[43m,\u001b[49m\u001b[43m \u001b[49m\u001b[43mconvert\u001b[49m\u001b[43m=\u001b[49m\u001b[43mconvert\u001b[49m\u001b[43m)\u001b[49m\n\u001b[32m   1744\u001b[39m \u001b[38;5;28;01melse\u001b[39;00m:\n\u001b[32m   1745\u001b[39m     \u001b[38;5;28;01mreturn\u001b[39;00m lib.map_infer_mask(\n\u001b[32m   1746\u001b[39m         values, mapper, mask=isna(values).view(np.uint8), convert=convert\n\u001b[32m   1747\u001b[39m     )\n",
      "\u001b[36mFile \u001b[39m\u001b[32mpandas/_libs/lib.pyx:2999\u001b[39m, in \u001b[36mpandas._libs.lib.map_infer\u001b[39m\u001b[34m()\u001b[39m\n",
      "\u001b[36mCell\u001b[39m\u001b[36m \u001b[39m\u001b[32mIn[39]\u001b[39m\u001b[32m, line 20\u001b[39m, in \u001b[36m<lambda>\u001b[39m\u001b[34m(x)\u001b[39m\n\u001b[32m     17\u001b[39m     \u001b[38;5;28;01mreturn\u001b[39;00m chunks\n\u001b[32m     19\u001b[39m \u001b[38;5;66;03m# Application du chunking\u001b[39;00m\n\u001b[32m---> \u001b[39m\u001b[32m20\u001b[39m df[\u001b[33m'\u001b[39m\u001b[33mtext\u001b[39m\u001b[33m'\u001b[39m] = df[\u001b[33m'\u001b[39m\u001b[33mtext\u001b[39m\u001b[33m'\u001b[39m].apply(\u001b[38;5;28;01mlambda\u001b[39;00m x: \u001b[43mchunk_text\u001b[49m\u001b[43m(\u001b[49m\u001b[43mx\u001b[49m\u001b[43m,\u001b[49m\u001b[43m \u001b[49m\u001b[43mchunk_size\u001b[49m\u001b[43m=\u001b[49m\u001b[32;43m200\u001b[39;49m\u001b[43m,\u001b[49m\u001b[43m \u001b[49m\u001b[43moverlap\u001b[49m\u001b[43m=\u001b[49m\u001b[32;43m50\u001b[39;49m\u001b[43m)\u001b[49m)\n\u001b[32m     21\u001b[39m display(df[\u001b[33m\"\u001b[39m\u001b[33mtext\u001b[39m\u001b[33m\"\u001b[39m].head())\n",
      "\u001b[36mCell\u001b[39m\u001b[36m \u001b[39m\u001b[32mIn[39]\u001b[39m\u001b[32m, line 9\u001b[39m, in \u001b[36mchunk_text\u001b[39m\u001b[34m(text, chunk_size, overlap)\u001b[39m\n\u001b[32m      1\u001b[39m \u001b[38;5;28;01mdef\u001b[39;00m\u001b[38;5;250m \u001b[39m\u001b[34mchunk_text\u001b[39m(text, chunk_size=\u001b[32m200\u001b[39m, overlap=\u001b[32m50\u001b[39m):\n\u001b[32m      2\u001b[39m \u001b[38;5;250m    \u001b[39m\u001b[33;03m\"\"\"\u001b[39;00m\n\u001b[32m      3\u001b[39m \u001b[33;03m    Découpe un texte en plusieurs morceaux (chunks) avec un chevauchement optionnel.\u001b[39;00m\n\u001b[32m      4\u001b[39m \n\u001b[32m   (...)\u001b[39m\u001b[32m      7\u001b[39m \u001b[33;03m    overlap : int → nombre de mots qui se chevauchent entre deux chunks\u001b[39;00m\n\u001b[32m      8\u001b[39m \u001b[33;03m    \"\"\"\u001b[39;00m\n\u001b[32m----> \u001b[39m\u001b[32m9\u001b[39m     words = \u001b[43mtext\u001b[49m\u001b[43m.\u001b[49m\u001b[43msplit\u001b[49m()\n\u001b[32m     10\u001b[39m     chunks = []\n\u001b[32m     12\u001b[39m     \u001b[38;5;66;03m# Taille du pas entre deux chunks\u001b[39;00m\n",
      "\u001b[31mAttributeError\u001b[39m: 'list' object has no attribute 'split'"
     ]
    }
   ],
   "source": [
    "def chunk_text(text, chunk_size=200, overlap=50):\n",
    "    \"\"\"\n",
    "    Découpe un texte en plusieurs morceaux (chunks) avec un chevauchement optionnel.\n",
    "\n",
    "    text : str → le texte à découper\n",
    "    chunk_size : int → nombre de mots par chunk\n",
    "    overlap : int → nombre de mots qui se chevauchent entre deux chunks\n",
    "    \"\"\"\n",
    "    words = text.split()\n",
    "    chunks = []\n",
    "\n",
    "    # Taille du pas entre deux chunks\n",
    "    step = chunk_size - overlap\n",
    "    for i in range(0, len(words), step):\n",
    "        chunk = words[i:i + chunk_size]\n",
    "        chunks.append(\" \".join(chunk))\n",
    "    return chunks\n",
    "\n",
    "# Application du chunking\n",
    "df['text'] = df['text'].apply(lambda x: chunk_text(x, chunk_size=200, overlap=50))\n",
    "display(df[\"text\"].head())"
   ]
  },
  {
   "cell_type": "markdown",
   "id": "8058257d",
   "metadata": {},
   "source": [
    "### Embeddings des chunks"
   ]
  },
  {
   "cell_type": "code",
   "execution_count": null,
   "id": "20a79901",
   "metadata": {},
   "outputs": [
    {
     "name": "stdout",
     "output_type": "stream",
     "text": [
      "✅ Nombre total de chunks : 76491\n"
     ]
    }
   ],
   "source": [
    "\n",
    "# Explosion du DataFrame pour avoir 1 chunk / ligne \n",
    "df_chunks = df.explode(\"text\").reset_index(drop=True)\n",
    "print(f\" Nombre total de chunks : {len(df_chunks)}\")"
   ]
  },
  {
   "cell_type": "code",
   "execution_count": 26,
   "id": "947ef924",
   "metadata": {},
   "outputs": [
    {
     "name": "stdout",
     "output_type": "stream",
     "text": [
      "✅ Batch 1 traité (100/5000)\n",
      "✅ Batch 2 traité (200/5000)\n",
      "✅ Batch 3 traité (300/5000)\n",
      "✅ Batch 4 traité (400/5000)\n",
      "✅ Batch 5 traité (500/5000)\n",
      "✅ Batch 6 traité (600/5000)\n",
      "✅ Batch 7 traité (700/5000)\n",
      "✅ Batch 8 traité (800/5000)\n",
      "✅ Batch 9 traité (900/5000)\n",
      "✅ Batch 10 traité (1000/5000)\n",
      "✅ Batch 11 traité (1100/5000)\n",
      "✅ Batch 12 traité (1200/5000)\n",
      "✅ Batch 13 traité (1300/5000)\n",
      "✅ Batch 14 traité (1400/5000)\n",
      "✅ Batch 15 traité (1500/5000)\n",
      "✅ Batch 16 traité (1600/5000)\n",
      "✅ Batch 17 traité (1700/5000)\n",
      "✅ Batch 18 traité (1800/5000)\n",
      "✅ Batch 19 traité (1900/5000)\n",
      "✅ Batch 20 traité (2000/5000)\n",
      "✅ Batch 21 traité (2100/5000)\n",
      "✅ Batch 22 traité (2200/5000)\n",
      "✅ Batch 23 traité (2300/5000)\n",
      "✅ Batch 24 traité (2400/5000)\n",
      "✅ Batch 25 traité (2500/5000)\n",
      "✅ Batch 26 traité (2600/5000)\n",
      "✅ Batch 27 traité (2700/5000)\n",
      "✅ Batch 28 traité (2800/5000)\n",
      "✅ Batch 29 traité (2900/5000)\n",
      "✅ Batch 30 traité (3000/5000)\n",
      "✅ Batch 31 traité (3100/5000)\n",
      "✅ Batch 32 traité (3200/5000)\n",
      "✅ Batch 33 traité (3300/5000)\n",
      "✅ Batch 34 traité (3400/5000)\n",
      "✅ Batch 35 traité (3500/5000)\n",
      "✅ Batch 36 traité (3600/5000)\n",
      "✅ Batch 37 traité (3700/5000)\n",
      "✅ Batch 38 traité (3800/5000)\n",
      "✅ Batch 39 traité (3900/5000)\n",
      "✅ Batch 40 traité (4000/5000)\n",
      "✅ Batch 41 traité (4100/5000)\n",
      "✅ Batch 42 traité (4200/5000)\n",
      "✅ Batch 43 traité (4300/5000)\n",
      "✅ Batch 44 traité (4400/5000)\n",
      "✅ Batch 45 traité (4500/5000)\n",
      "✅ Batch 46 traité (4600/5000)\n",
      "✅ Batch 47 traité (4700/5000)\n",
      "✅ Batch 48 traité (4800/5000)\n",
      "✅ Batch 49 traité (4900/5000)\n",
      "✅ Batch 50 traité (5000/5000)\n",
      "Nombre d'embeddings générés: 5000\n",
      "Type du premier embedding: <class 'list'>\n",
      "Longueur du premier embedding: 384\n",
      "Aperçu du premier embedding: [0.023834025, -0.090100236, 0.036937714, 0.013893408, 0.035828445]\n"
     ]
    }
   ],
   "source": [
    "import ollama\n",
    "model_name = \"all-minilm:latest\"\n",
    "\n",
    "def generate_embeddings_ollama(texts, model=model_name, batch_size=100):\n",
    "    all_embeddings = []\n",
    "    for i in range(0, len(texts), batch_size):\n",
    "        batch = texts[i:i + batch_size]\n",
    "        response = ollama.embed(model=model, input=batch)\n",
    "        embeddings = response.get(\"embeddings\", [])\n",
    "        all_embeddings.extend(embeddings)\n",
    "        print(f\"✅ Batch {i//batch_size + 1} traité ({len(all_embeddings)}/{len(texts)})\")\n",
    "    return all_embeddings\n",
    "\n",
    "\n",
    "df_test = df_chunks.head(5000)\n",
    "embeddings = generate_embeddings_ollama(df_test[\"text\"].tolist())\n",
    "print(f\"Nombre d'embeddings générés: {len(embeddings)}\")\n",
    "print(f\"Type du premier embedding: {type(embeddings[0])}\")\n",
    "print(f\"Longueur du premier embedding: {len(embeddings[0])}\")\n",
    "print(f\"Aperçu du premier embedding: {embeddings[0][:5]}\")\n"
   ]
  },
  {
   "cell_type": "markdown",
   "id": "251dbc94",
   "metadata": {},
   "source": [
    "### Normalisation des embeddings"
   ]
  },
  {
   "cell_type": "code",
   "execution_count": null,
   "id": "258b4aa2",
   "metadata": {},
   "outputs": [
    {
     "name": "stdout",
     "output_type": "stream",
     "text": [
      "Nombre d'embeddings: 5000\n",
      "Exemple taille d’un embedding : 384\n",
      "Shape d'un embedding: (384,)\n",
      "0.02383402641242069\n"
     ]
    }
   ],
   "source": [
    "def normalize_vectors(vectors):\n",
    "    normalize = []\n",
    "    for v in vectors:\n",
    "        norm = np.linalg.norm(v)\n",
    "        if norm == 0:\n",
    "            normalize.append(v)\n",
    "        else:\n",
    "            normalize.append(v / norm)\n",
    "    return normalize\n",
    "\n",
    "emb_normalize = normalize_vectors(embeddings)\n",
    "print(f\"Nombre d'embeddings: {len(emb_normalize)}\")\n",
    "print(f\"Exemple taille d’un embedding : {len(emb_normalize[0])}\")\n",
    "print(f\"Shape d'un embedding: {emb_normalize[0].shape}\") "
   ]
  },
  {
   "cell_type": "markdown",
   "id": "b88e8fec",
   "metadata": {},
   "source": [
    "## Insertions des données dans chromaDB"
   ]
  },
  {
   "cell_type": "code",
   "execution_count": null,
   "id": "5562da96",
   "metadata": {},
   "outputs": [
    {
     "name": "stderr",
     "output_type": "stream",
     "text": [
      "/tmp/ipykernel_1083/3800764816.py:12: SettingWithCopyWarning: \n",
      "A value is trying to be set on a copy of a slice from a DataFrame.\n",
      "Try using .loc[row_indexer,col_indexer] = value instead\n",
      "\n",
      "See the caveats in the documentation: https://pandas.pydata.org/pandas-docs/stable/user_guide/indexing.html#returning-a-view-versus-a-copy\n",
      "  df_test[\"chunk_id\"] = [f\"chunk_{i}\" for i in range(len(df_test))]\n",
      "/tmp/ipykernel_1083/3800764816.py:13: SettingWithCopyWarning: \n",
      "A value is trying to be set on a copy of a slice from a DataFrame.\n",
      "Try using .loc[row_indexer,col_indexer] = value instead\n",
      "\n",
      "See the caveats in the documentation: https://pandas.pydata.org/pandas-docs/stable/user_guide/indexing.html#returning-a-view-versus-a-copy\n",
      "  df_test[\"metadata\"] = df_test.apply(\n"
     ]
    },
    {
     "name": "stdout",
     "output_type": "stream",
     "text": [
      " 5000 chunks insérés dans ChromaDB avec succès.\n"
     ]
    }
   ],
   "source": [
    "import chromadb\n",
    "\n",
    "chroma_path = \"/home/fadilatou/PROJETS/rag_fake_news/data\"\n",
    "chroma_client = chromadb.PersistentClient(path=chroma_path)\n",
    "\n",
    "collection = chroma_client.get_or_create_collection(\n",
    "    name=\"news_collection\",\n",
    "    embedding_function=None\n",
    ")\n",
    "\n",
    "# Création d’IDs et métadonnées cohérentes\n",
    "df_test[\"chunk_id\"] = [f\"chunk_{i}\" for i in range(len(df_test))]\n",
    "df_test[\"metadata\"] = df_test.apply(\n",
    "    lambda row: {\"label\": row[\"label\"], \"title\": row[\"title\"]},\n",
    "    axis=1\n",
    ")\n",
    "\n",
    "collection.upsert(\n",
    "    documents=df_test[\"text\"].tolist(),\n",
    "    ids=df_test[\"chunk_id\"].tolist(),\n",
    "    embeddings=emb_normalize,\n",
    "    metadatas=df_test[\"metadata\"].tolist()\n",
    ")\n",
    "print(f\" {len(df_test)} chunks insérés dans ChromaDB avec succès.\")\n"
   ]
  },
  {
   "cell_type": "markdown",
   "id": "21de4f78",
   "metadata": {},
   "source": [
    "## Le test utilisateur .query"
   ]
  },
  {
   "cell_type": "code",
   "execution_count": 40,
   "id": "5698c106",
   "metadata": {},
   "outputs": [
    {
     "name": "stdout",
     "output_type": "stream",
     "text": [
      "{'ids': [['chunk_3202', 'chunk_1893', 'chunk_1892', 'chunk_4840', 'chunk_2178', 'chunk_2342', 'chunk_1424', 'chunk_4011', 'chunk_639', 'chunk_2869']], 'embeddings': None, 'documents': [['new york reuters president barack obama rare public appearance wednesday question republicans latest effort repeal signature healthcare law saying inflict real human suffering americans speech bill melinda gates foundation event new york city obama laid optimistic vision worlds future implicitly criticizing republican president donald trumps america philosophy remarks times obama democrat spoken publicly left office january aggravating obama said republican attempt eliminate obamacare certainly frustrating mobilize couple months leaders inflicting real human suffering constituents obama said healthcare fight good example way advancement fits starts backward steps tempering success progress inevitable said fragile need constant renewal true test said people respond times difficulty efforts world better run resistance response reject cynicism reject pessimism push forward certain infectious relentless optimism said blind optimism ignores scale scope challenges hardearned optimism rooted stories real progress occurred human history speech came day trump addressed united nations general assembly time president offering fullthroated defense nationalism expressing skepticism multilateral foreign policy questionandanswer session bill melinda gates speech obama said united states hope solve worlds biggest problems climate change mass migration largely leaving office obama mention trump clear disagreed presidents viewpoint nt cede sovereignty nt patriotic believe obama said sense read', 'obamas appearances aimed driving democratic turnout new jersey virginia states holding elections governor year democrats hope obama bring young minority infrequent voters powered elections white house polls offyear elections contests closely watched democrats convert grassroots resistance trump electoral wins falling short earlier year competitive special congressional elections governors races special election december senate seat alabama offer clues national political mood ahead years congressional elections seats house representatives senates seats grabs republicans currently control chambers leaving white house january obama frequently forced defend record trump republicans tried gut signature healthcare law roll immigration environmental policies rarely spoken politics past months obama said critical supporters friends families vote newark said assume victory opinion polls phil murphy investment banker ambassador germany comfortable lead republican opponent kim guadagno states lieutenant governor nt know noticed nt election granted said reference democrat hillary clintons surprise loss year presidential race political battleground virginia polls close contest democrat ralph northam states lieutenant governor republican ed gillespie republican national committee chairman endorsed trump obama carried virginia democrat hillary clinton won state trump percentage points', 'reuters president barack obama campaign trail thursday time left white house called voters reject growing politics division said corroding american democracy mentioning republican president donald trump obama told campaign rallies new jersey virginia voters send powerful message type politics want backing democrats nov elections states nt old politics division seen times dates centuries obama told cheering crowd newark new jersey chanted years politics thought bed s folks looking years obama said st century th century later stop richmond virginia obama said modern politics increasingly reflect basic american values inclusiveness driving people away process ve got folks deliberately trying folks angry demonize people different ideas base riled provides shortterm tactical advantage feels frustrating obama said obamas comments appeared thinly veiled swipes trump combative style inflammatory rhetoric led frequent controversy stoked political tensions obama remarks hours president george w bush republican took indirect swing trump speech decrying bullying prejudice defending immigrants trade obamas appearances aimed driving democratic turnout new jersey virginia states holding elections governor year democrats hope obama bring young minority infrequent voters powered elections white house polls offyear elections contests closely watched democrats convert grassroots resistance trump electoral wins falling short earlier year competitive special congressional elections governors races special', 'focused groups people voted twice president barack obama trump democratic voters sat election democrats america ohio desperate win look ahead years congressional elections stakes high significant shift voting patterns party fail recapture house representatives lose seats senate minority monday national democratic party unveiled economic platform said help families called better deal major step party try reconnect voters election plan called creating million jobs years cracking monopolies big corporate mergers plan missing vital piece said alan melamed longstanding member ohio democratic partys executive committee political consultant worked dozens campaigns years need fighting people plan failed clintons defeat november tom perez head democratic national committee body runs national party conducted nationwide listening tour hear traditionally democratic voters defected trump year came ohio democrats said nt listening lot talking june listening tour came youngstown party stalwarts paid attend pizza perez event local pizzeria saw typical campaign event audience listening democratic operatives touted positions said john russo codirector center working class studies youngstown university political analyst paid told perez thought thinking michael tyler spokesman perez disputed account saying perez lot listening event ohio feel politically homeless long national party focused solely electing president united states expense local concerns tyler said s exactly ohio places', 'barack obama returned campaign trail week time leaving office stump candidates virginia new jersey states gubernatorial elections year naming trump called voters send message backing candidates like northam recent poll showed nearly likely virginia voters factoring trump decision governors race according survey wason center public policy christopher newport university northams supporters overwhelmingly disapproved trump distain republican president niel manson yearold retired engineer living near capital city richmond democrat months ago independent called northam wise campaign merely reacting trump benefit getting discussion trump changes mind hours manson said northam campaign said intentionally focused policies talking trump seeking draw parallels gillespie northam starts recent ad highlighting differences gubernatorial candidates climate change eds going right donald trump tries roll clean air water protections democrat says picnic table waterfront park strategy works connect president republican candidate lock step said jennifer duffy analyzes gubernatorial races nonpartisan cook political report said campaigns gearing years midterms learn virginia messaging sways independents motivates democrats turn greater numbers typical nonpresidential years real election arguments trump impact republican candidates duffy said gillespies campaign declined comment trumps impact race president endorsed gillespie campaigned vice president mike pence headlined recent rally candidate southwest virginias heavily republican coal country democratic voter erin siraguse', 'washington reuters aides president barack obama fired tuesday criticism mounted president donald trumps claim past presidents contact family members soldiers died combat time white house trump offered evidence claim monday immediately pointed false remarks came amid questions press conference trump having responded deaths soldiers oct ambush niger asked acknowledged soldiers deaths trump said send letters families later monday point period time obamas white house spokesman josh earnest said tuesday obama repeatedly enormous respect paid ultimate sacrifice country visits meetings phonecalls letters trump republican president serves commanderinchief military appeared criticize predecessors handling issue american soldiers deaths traditional way look president obama presidents nt calls lot nt calls trump said pressed claim particularly obama trump retreated nt know trump said told nt lot presidents nt write letters combination president obama think probably maybe nt nt know s told trump added presidents d write letters presidents nt obamas aides quick lash stop damn lying president eric holder obamas attorney general said post twitter alyssa mastromonaco obamas deputy chief staff called lie earnest msnbc commentator told network past republican democratic presidents recognized duty honor soldiers sacrifices highlight actions unfortunately president trump incapable actually earnest said spokesperson president george w bush said called written visited', 'democrat barack obama barely edged republican mitt romney presidential race tuesday northam buried gillespie points m worried ari fleischer white house spokesman republican president george w bush told fox news wednesday democrats came huge numbers yesterday races kind enthusiasm going going tough sailing republicans gillespie longtime washington insider lobbyist tried distance trump personally adopted combative campaign rhetoric strategy failed mackowiak said result reflected trumps historically low approval rating nt think white house worried think fiveday reutersipsos tracking poll trump hovering percent approval nationally close percent respondents disapproving performance office person familiar trumps political operation dismissed election results tuesday having president noting new jersey virginia won clinton andrew surabian adviser protrump political group great america alliance said gillespie lost exactly kind establishment republican trump voters rejected ed gillespies campaign went flames failed fully embrace president agenda surabian said coherent message authentic messenger republican candidates successful moving forward', 'reuters president donald trump likely open door monday modest increase troop numbers afghanistan america fighting longest military conflict past trump took office january critical democratic president barack obamas approach afghanistan saying united states nationbuilding calling obama withdraw troops obama evolving views committing increase tens thousands troops reverse taliban gains committing troop drawdown unable complete leaving office following trumps comments war launched white house run june oct stop wasting money rebuilding afghanistan rebuild country posted twitter year obamas troop surge taken troop levels feb time afghanistan building roads schools people hate national interests posted twitter jan believe afghan war longest war everbring troops home rebuild america great posted twitter march leave afghanistan immediately wasted lives hard quick rebuild posted twitter dec obama keeping soldiers afghanistan year losing wars simultaneously posted twitter march think stay afghanistan fact right pakistan nuclear weapons protect nuclear weapons change game said debate republican presidential candidates asked withdraw troops afghanistan july ve close years want find ve years going terms additional ideas ve heard plenty ideas lot people want hear people ground said meeting service members discuss afghanistan', 'reuters president donald trump continued dominate twitter president barack obamas tweets liked blown away mans quest free chicken nuggets twitter revealed years liked retweeted tweets tuesday reflecting nation bitterly divided republicans democrats likewise split social media trump million followers realdonaldtrump rank st twitter tweeted world leader elected official likewise foxnews conservative cable news channel tweeted news outlet led seanhannity host friend ally president obama wellrepresented president barackobama ranked thirdmostfollowed twitter account katyperry justinbieber posted popular tweet nearly million likes nelson mandela quote born hating person color skin background religion picture obama greeting diverse group babies window second retweeted item million times president compete free nuggets yearold named carter wilkerson carterjwm garnered million retweets campaign years supply nuggets wendys came short wendys target million retweets wendys gave nuggets donation wendyslinked dave thomas foundation adoption new political accounts trumps forceful critics led preetbharara federal prosecutor fired came sallyqyates acting attorney general fired trump obama adviser ben rhodes brhodes followed obamas official photographer petesouza tweeted flattering pictures obama trump criticized moments white house press secretary sarah sanders shsanders rounded results underscored punch counterpunch politics right foxnews tweeted news outlet list cnn trump derides fake news tweeted activist hashtag resist resist trump followed maga', 'compared number issued administration president barack obama sunday trump issued version ban indefinitely restricts travelers iran libya syria yemen somalia chad north korea certain government officials venezuela barred march june period trumps order blocked courts citizens countries issued average visas monthly percent fewer monthly average according state department data supreme court ruling monthly average percent lower graphic visas issued countries affected travel ban tmsnrtrsydbaa trumps initial travel ban barred citizens countries iraq sparked chaos protests airports united states issued little forewarning orders scope unclear sowed confusion travelers authorities responsible implementing courts quickly enjoined main parts order trump eventually issued new order excluded iraq delayed enactment allow administration travelers time prepare order soon blocked courts case eventually reached supreme court allowed limited version ban affecting citizens countries lacking bona fide ties united states trump issued revised ban sunday supreme court canceled oral arguments scheduled oct decide earlier version ban discriminatory sharply fewer visas issued president complained social media speeches limits imposed courts executive orders establishing travel ban travel ban united states far larger tougher specificbut stupidly politically correct trump tweeted sept follow trumps impact energy environment healthcare immigration economy trump effect state department releases data visas issued total application numbers unclear']], 'uris': None, 'included': ['metadatas', 'documents', 'distances'], 'data': None, 'metadatas': [[{'label': 'True', 'title': 'rare public speech obama decries republican healthcare bill'}, {'title': 'obama blasts politics division return campaign trail', 'label': 'True'}, {'title': 'obama blasts politics division return campaign trail', 'label': 'True'}, {'title': 'ohio struggle soul democratic party playing', 'label': 'True'}, {'title': 'searching trump card democrats watch virginia governors race', 'label': 'True'}, {'title': 'obama aides slam trump claim past presidents fallen soldiers', 'label': 'True'}, {'title': 'trumps limited appeal warning sign republicans ahead elections', 'label': 'True'}, {'title': 'factbox trumps evolving views afghan conflict', 'label': 'True'}, {'title': 'trump obama dominate twitter year chicken nuggets prevail', 'label': 'True'}, {'label': 'True', 'title': 'visas muslim nations drop supreme court backs travel ban'}]], 'distances': [[1.006757140159607, 1.0494771003723145, 1.0621367692947388, 1.1586939096450806, 1.160747766494751, 1.1655516624450684, 1.1693463325500488, 1.1792702674865723, 1.1866850852966309, 1.2353134155273438]]}\n"
     ]
    }
   ],
   "source": [
    "# Tets utilisateur\n",
    "from chromadb.utils import embedding_functions\n",
    "from ollama import generate\n",
    "\n",
    "ollama_embed = embedding_functions.OllamaEmbeddingFunction(model_name=\"all-minilm\")\n",
    "\n",
    "# Texte utilisateur\n",
    "text = \"Barack Obama was elected U.S. president in 2008\"\n",
    "\n",
    "# Embedding + normalisation\n",
    "query_embedding = ollama_embed([text])\n",
    "query_embedding = normalize_vectors(query_embedding)\n",
    "\n",
    "# Récupération des chunks les plus proches\n",
    "n_chunks = 10\n",
    "results = collection.query(\n",
    "    query_embeddings=query_embedding,\n",
    "    n_results=n_chunks\n",
    ")\n",
    "print(results)"
   ]
  },
  {
   "cell_type": "markdown",
   "id": "17a90b06",
   "metadata": {},
   "source": [
    "### RAG ( Resonning by Retrieval)"
   ]
  },
  {
   "cell_type": "code",
   "execution_count": 46,
   "id": "4709a97a",
   "metadata": {},
   "outputs": [
    {
     "name": "stdout",
     "output_type": "stream",
     "text": [
      "✅ Batch 1 traité (1/1)\n",
      "=== TEST ===\n",
      "Donald Trump won the 2020 U.S. presidential election.\n",
      "\n",
      "=== CONTEXT ===\n",
      "campaign voters arlington county suburban democratic stronghold bordering washington said national politics important votes trump talks draining swamp gillespie kind swamp said nick peacemaker works marketing considered republican trump won partys presidential nomination peacemaker said gillespie shift closer trumps policies securing republican gubernatorial nomination local races country democratic mayor bill de blasio new york marty walsh boston easily won reelection voters picking mayors detroit atlanta seattle charlotte north carolina\n",
      "certified winner said currently assessing legal options fight result democrats claimed historic gains virginias statehouse month partys big wave victories republican donald trump won white house year nov general election virginia republicans held seats democrats house delegates majority state senate\n",
      "washington reuters president donald trump congratulated democrat doug jones tuesday winning bitter senate race alabama republican candidate president back\n",
      "\n",
      "=== MODEL RESPONSE ===\n",
      "Verdict: FAKE.\n",
      "\n",
      "Justification: The provided text does not contain any mention of elections held in recent years, nor is there information about Donald Trump winning a U.S. presidential election beyond the phrase \"trump congratulated doug jones\". This statement seems to be referring specifically to an event from 2020 and as such cannot be verified within this context; moreover, it contradicts widely available historical records showing that Joe Biden won the 2020 U.S. presidential election against Donald Trump.\n",
      "\n",
      "SOURCES: None applicable based on provided text\n"
     ]
    }
   ],
   "source": [
    "import ollama\n",
    "import chromadb\n",
    "import numpy as np\n",
    "\n",
    "#  CONFIGURATION \n",
    "CHROMA_PATH = \"/home/fadilatou/PROJETS/rag_fake_news/data\"\n",
    "COLLECTION_NAME = \"news_collection\"\n",
    "EMBED_MODEL = \"all-minilm:latest\"\n",
    "GEN_MODEL = \"phi3:mini\"\n",
    "TOP_K = 5\n",
    "\n",
    "#  Fonction principale RAG \n",
    "def rag_analysis(user_text: str, top_k: int = TOP_K):\n",
    "    \"\"\"\n",
    "    Étape complète RAG :\n",
    "    1. Nettoyage du texte utilisateur\n",
    "    2. Vectorisation et normalisation\n",
    "    3. Recherche dans ChromaDB\n",
    "    4. Construction du prompt et génération du verdict\n",
    "    \"\"\"\n",
    "\n",
    "    #  Nettoyage avec ta fonction clean_text_pipeline \n",
    "    clean_text = clean_text_pipeline(user_text)\n",
    "\n",
    "    #  Vectorisation avec ta fonction generate_embeddings_ollama \n",
    "    embeddings = generate_embeddings_ollama([clean_text])\n",
    "\n",
    "    #  Normalisation avec ta fonction normalize_vectors \n",
    "    normalized_emb = normalize_vectors(embeddings)[0]  # on récupère le premier (et seul) embedding\n",
    "\n",
    "    # Connection à ChromaDB\n",
    "    chroma_client = chromadb.PersistentClient(path=CHROMA_PATH)\n",
    "    collection = chroma_client.get_or_create_collection(name=COLLECTION_NAME, embedding_function=None)\n",
    "\n",
    "    #  Recherche dans la base Chroma des chunks les plus similaires\n",
    "    results = collection.query(\n",
    "        query_embeddings=[normalized_emb],\n",
    "        n_results=top_k,\n",
    "        include=[\"documents\", \"metadatas\", \"distances\"]\n",
    "    )\n",
    "\n",
    "    # Récupération et assemblage du contexte\n",
    "    retrieved_chunks = results[\"documents\"][0]\n",
    "    context = \"\\n\".join(retrieved_chunks)\n",
    "\n",
    "    # --- Création du prompt en anglais ---\n",
    "    prompt = f\"\"\"\n",
    "You are a fact-checking assistant. \n",
    "Use the context below to decide if the following statement is TRUE or FAKE. \n",
    "If information is missing or contradictory, answer \"INSUFFICIENT EVIDENCE\".\n",
    "Provide a clear justification in English.\n",
    "\n",
    "Context:\n",
    "{context}\n",
    "\n",
    "Statement to analyze:\n",
    "\"{user_text}\"\n",
    "\n",
    "Respond in this format:\n",
    "VERDICT: <TRUE | FAKE | INSUFFICIENT EVIDENCE>\n",
    "JUSTIFICATION:\n",
    "- <brief explanation based on the context>\n",
    "SOURCES:\n",
    "- <titles or labels used>\n",
    "\"\"\"\n",
    "\n",
    "# Appel du modèle Ollama (par exemple phi3:mini)\n",
    "    response = ollama.chat(\n",
    "        model=\"phi3:mini\",\n",
    "        messages=[\n",
    "            {\"role\": \"system\", \"content\": \"You are an expert in news verification.\"},\n",
    "            {\"role\": \"user\", \"content\": prompt}\n",
    "        ]\n",
    "    )\n",
    "    \n",
    "    # Retourne le résultat formaté\n",
    "    answer = response[\"message\"][\"content\"]\n",
    "    return {\n",
    "        \"test\": user_text,\n",
    "        \"context_used\": context,\n",
    "        \"model_response\": answer\n",
    "    }\n",
    "\n",
    "# --- Exemple d'utilisation ---\n",
    "user_test = \"Donald Trump won the 2020 U.S. presidential election.\"\n",
    "result = rag_analysis(user_test)\n",
    "\n",
    "print(\"=== TEST ===\")\n",
    "print(result[\"test\"])\n",
    "print(\"\\n=== CONTEXT ===\")\n",
    "print(result[\"context_used\"][:1000])  # affiche un aperçu du contexte\n",
    "print(\"\\n=== MODEL RESPONSE ===\")\n",
    "print(result[\"model_response\"])"
   ]
  }
 ],
 "metadata": {
  "kernelspec": {
   "display_name": ".venv",
   "language": "python",
   "name": "python3"
  },
  "language_info": {
   "codemirror_mode": {
    "name": "ipython",
    "version": 3
   },
   "file_extension": ".py",
   "mimetype": "text/x-python",
   "name": "python",
   "nbconvert_exporter": "python",
   "pygments_lexer": "ipython3",
   "version": "3.12.3"
  }
 },
 "nbformat": 4,
 "nbformat_minor": 5
}
