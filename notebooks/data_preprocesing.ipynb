{
 "cells": [
  {
   "cell_type": "markdown",
   "id": "d6c89275",
   "metadata": {},
   "source": [
    "# Data Preprocessing"
   ]
  },
  {
   "cell_type": "code",
   "execution_count": 1,
   "id": "51863d1f",
   "metadata": {},
   "outputs": [],
   "source": [
    "import pandas as pd\n",
    "import numpy as np"
   ]
  },
  {
   "cell_type": "markdown",
   "id": "fe6ab467",
   "metadata": {},
   "source": [
    "### Chargement des données True et Fake"
   ]
  },
  {
   "cell_type": "code",
   "execution_count": 2,
   "id": "942faa97",
   "metadata": {},
   "outputs": [
    {
     "name": "stdout",
     "output_type": "stream",
     "text": [
      "                                               title  \\\n",
      "0  As U.S. budget fight looms, Republicans flip t...   \n",
      "1  U.S. military to accept transgender recruits o...   \n",
      "2  Senior U.S. Republican senator: 'Let Mr. Muell...   \n",
      "3  FBI Russia probe helped by Australian diplomat...   \n",
      "4  Trump wants Postal Service to charge 'much mor...   \n",
      "\n",
      "                                                text       subject  \\\n",
      "0  WASHINGTON (Reuters) - The head of a conservat...  politicsNews   \n",
      "1  WASHINGTON (Reuters) - Transgender people will...  politicsNews   \n",
      "2  WASHINGTON (Reuters) - The special counsel inv...  politicsNews   \n",
      "3  WASHINGTON (Reuters) - Trump campaign adviser ...  politicsNews   \n",
      "4  SEATTLE/WASHINGTON (Reuters) - President Donal...  politicsNews   \n",
      "\n",
      "                 date  \n",
      "0  December 31, 2017   \n",
      "1  December 29, 2017   \n",
      "2  December 31, 2017   \n",
      "3  December 30, 2017   \n",
      "4  December 29, 2017   \n",
      "                                               title  \\\n",
      "0   Donald Trump Sends Out Embarrassing New Year’...   \n",
      "1   Drunk Bragging Trump Staffer Started Russian ...   \n",
      "2   Sheriff David Clarke Becomes An Internet Joke...   \n",
      "3   Trump Is So Obsessed He Even Has Obama’s Name...   \n",
      "4   Pope Francis Just Called Out Donald Trump Dur...   \n",
      "\n",
      "                                                text subject  \\\n",
      "0  Donald Trump just couldn t wish all Americans ...    News   \n",
      "1  House Intelligence Committee Chairman Devin Nu...    News   \n",
      "2  On Friday, it was revealed that former Milwauk...    News   \n",
      "3  On Christmas day, Donald Trump announced that ...    News   \n",
      "4  Pope Francis used his annual Christmas Day mes...    News   \n",
      "\n",
      "                date  \n",
      "0  December 31, 2017  \n",
      "1  December 31, 2017  \n",
      "2  December 30, 2017  \n",
      "3  December 29, 2017  \n",
      "4  December 25, 2017  \n",
      "                                               title  \\\n",
      "0  As U.S. budget fight looms, Republicans flip t...   \n",
      "1  U.S. military to accept transgender recruits o...   \n",
      "2  Senior U.S. Republican senator: 'Let Mr. Muell...   \n",
      "3  FBI Russia probe helped by Australian diplomat...   \n",
      "4  Trump wants Postal Service to charge 'much mor...   \n",
      "\n",
      "                                                text       subject  \\\n",
      "0  WASHINGTON (Reuters) - The head of a conservat...  politicsNews   \n",
      "1  WASHINGTON (Reuters) - Transgender people will...  politicsNews   \n",
      "2  WASHINGTON (Reuters) - The special counsel inv...  politicsNews   \n",
      "3  WASHINGTON (Reuters) - Trump campaign adviser ...  politicsNews   \n",
      "4  SEATTLE/WASHINGTON (Reuters) - President Donal...  politicsNews   \n",
      "\n",
      "                 date label  \n",
      "0  December 31, 2017   True  \n",
      "1  December 29, 2017   True  \n",
      "2  December 31, 2017   True  \n",
      "3  December 30, 2017   True  \n",
      "4  December 29, 2017   True  \n"
     ]
    }
   ],
   "source": [
    "# Chargement des données csv \n",
    "df_true = pd.read_csv('/home/fadilatou/PROJETS/rag_fake_news/data/True.csv')\n",
    "df_fake = pd.read_csv('/home/fadilatou/PROJETS/rag_fake_news/data/Fake.csv')\n",
    "\n",
    "# Affichage\n",
    "print(df_true.head())\n",
    "print(df_fake.head())\n",
    "\n",
    "# Création de la colonne label\n",
    "df_true[\"label\"] = \"True\"\n",
    "df_fake[\"label\"] = \"Fake\"\n",
    "\n",
    "# Fusionner les deux datasets\n",
    "df = pd.concat([df_true, df_fake], ignore_index=True)\n",
    "\n",
    "# Afficher les premières lignes\n",
    "print(df.head())\n"
   ]
  },
  {
   "cell_type": "markdown",
   "id": "eb26f1bf",
   "metadata": {},
   "source": [
    "###  Exploration de données "
   ]
  },
  {
   "cell_type": "code",
   "execution_count": 3,
   "id": "550ce66a",
   "metadata": {},
   "outputs": [
    {
     "name": "stdout",
     "output_type": "stream",
     "text": [
      "(44898, 5)\n",
      " types de données: title      object\n",
      "text       object\n",
      "subject    object\n",
      "date       object\n",
      "label      object\n",
      "dtype: object\n",
      "                                                    title   text  \\\n",
      "count                                               44898  44898   \n",
      "unique                                              38729  38646   \n",
      "top     Factbox: Trump fills top jobs for his administ...          \n",
      "freq                                                   14    627   \n",
      "\n",
      "             subject                date  label  \n",
      "count          44898               44898  44898  \n",
      "unique             8                2397      2  \n",
      "top     politicsNews  December 20, 2017    Fake  \n",
      "freq           11272                 182  23481  \n",
      "Valeur du label: label\n",
      "Fake    23481\n",
      "True    21417\n",
      "Name: count, dtype: int64\n"
     ]
    }
   ],
   "source": [
    "# Les dimensions de chaque df\n",
    "print(df.shape)\n",
    "\n",
    "# Les types de données\n",
    "print(f\" types de données:\",df.dtypes)\n",
    "\n",
    "# Le résumer statistique des colonnes\n",
    "print(df.describe())\n",
    "\n",
    "# Les valeurs de la colonne labels\n",
    "print(f\"Valeur du label:\",df['label'].value_counts())\n"
   ]
  },
  {
   "cell_type": "markdown",
   "id": "c5a0148f",
   "metadata": {},
   "source": [
    "### Nettoyage du Dataset"
   ]
  },
  {
   "cell_type": "code",
   "execution_count": 4,
   "id": "f7d14878",
   "metadata": {},
   "outputs": [
    {
     "name": "stdout",
     "output_type": "stream",
     "text": [
      "Les valeurs manquantes : title      0\n",
      "text       0\n",
      "subject    0\n",
      "date       0\n",
      "label      0\n",
      "dtype: int64\n",
      "Nombre de doublons: 209\n",
      ".csv après nettoyage :\n",
      "Doublons restants : 0\n"
     ]
    }
   ],
   "source": [
    "# # # La somme des valeurs manquantes\n",
    "print(f\"Les valeurs manquantes :\", df.isnull().sum())\n",
    "\n",
    "# # Détection des doublons\n",
    "print(f\"Nombre de doublons:\", df.duplicated().sum())\n",
    "\n",
    "# Supprimer les doublons\n",
    "df = df.drop_duplicates(subset=['title', 'text'])\n",
    "\n",
    "# Vérification\n",
    "print(\".csv après nettoyage :\")\n",
    "print(\"Doublons restants :\", df.duplicated(subset=['title', 'text']).sum())\n"
   ]
  },
  {
   "cell_type": "code",
   "execution_count": 5,
   "id": "366de667",
   "metadata": {},
   "outputs": [
    {
     "name": "stdout",
     "output_type": "stream",
     "text": [
      "0   2017-12-31\n",
      "1   2017-12-29\n",
      "2   2017-12-31\n",
      "3   2017-12-30\n",
      "4   2017-12-29\n",
      "Name: date, dtype: datetime64[ns]\n"
     ]
    }
   ],
   "source": [
    "# Conversion de la colonne date en datetime\n",
    "df[\"date\"] = pd.to_datetime(df[\"date\"], errors = 'coerce')\n",
    "print(df[\"date\"].head())"
   ]
  },
  {
   "cell_type": "code",
   "execution_count": 6,
   "id": "85ca00cf",
   "metadata": {},
   "outputs": [],
   "source": [
    "# # Sauvegarde du dataset propre \n",
    "# df.to_csv(\"/home/fadilatou/PROJETS/rag_fake_news/data/news_clean.csv\", index=False)"
   ]
  },
  {
   "cell_type": "markdown",
   "id": "3b36b035",
   "metadata": {},
   "source": [
    "### Application des fonction de nettoyage sur les colonnes text et title"
   ]
  },
  {
   "cell_type": "code",
   "execution_count": 7,
   "id": "ba4aa654",
   "metadata": {},
   "outputs": [
    {
     "name": "stdout",
     "output_type": "stream",
     "text": [
      "fake news politics\n"
     ]
    }
   ],
   "source": [
    "from test_cleaning import clean_text_pipeline\n",
    "\n",
    "# Tester sur les 5 premières lignes pour vérifier la rapidité\n",
    "df[\"text\"] = df[\"text\"].apply(clean_text_pipeline)\n",
    "df[\"title\"] = df[\"title\"].apply(clean_text_pipeline)"
   ]
  },
  {
   "cell_type": "markdown",
   "id": "b49a8c9b",
   "metadata": {},
   "source": [
    "### Chunkings : Découpage des données de la colonne text"
   ]
  },
  {
   "cell_type": "code",
   "execution_count": 8,
   "id": "3d9d6b08",
   "metadata": {},
   "outputs": [],
   "source": [
    "def chunk_text(text, chunk_size=200, overlap=50):\n",
    "    \"\"\"\n",
    "    Découpe un texte en plusieurs morceaux (chunks) avec un chevauchement optionnel.\n",
    "\n",
    "    text : str → le texte à découper\n",
    "    chunk_size : int → nombre de mots par chunk\n",
    "    overlap : int → nombre de mots qui se chevauchent entre deux chunks\n",
    "    \"\"\"\n",
    "    if not isinstance(text, str) or not text.strip():\n",
    "        return []  # Retourne une liste vide si le texte est vide ou non valide\n",
    "    \n",
    "    words = text.split()\n",
    "    chunks = []\n",
    "\n",
    "    # Taille du pas entre deux chunks\n",
    "    step = chunk_size - overlap\n",
    "    for i in range(0, len(words), step):\n",
    "        chunk = words[i:i + chunk_size]\n",
    "        chunks.append(\" \".join(chunk))\n",
    "    \n",
    "    return chunks\n",
    "\n",
    "# Application du chunking\n",
    "df['text'] = df['text'].apply(lambda x: chunk_text(x, chunk_size=200, overlap=50))"
   ]
  },
  {
   "cell_type": "markdown",
   "id": "8058257d",
   "metadata": {},
   "source": [
    "### Embeddings des chunks"
   ]
  },
  {
   "cell_type": "code",
   "execution_count": 9,
   "id": "72bc46d0",
   "metadata": {},
   "outputs": [],
   "source": [
    "# Importation et initialisation de Chroma DB\n",
    "import chromadb\n",
    "from chromadb.utils import embedding_functions\n",
    "\n",
    "# Connexion au client Chroma\n",
    "chroma_client = chromadb.Client()\n",
    "\n",
    "# Création (ou récupération) d’une collection\n",
    "collection = chroma_client.get_or_create_collection(name=\"fake_news\")"
   ]
  },
  {
   "cell_type": "code",
   "execution_count": 10,
   "id": "09c1eb22",
   "metadata": {},
   "outputs": [],
   "source": [
    "# Fonction pour génerer les embeddings avec Ollama\n",
    "import requests\n",
    "\n",
    "def generate_embeddings(texts, model=\"all-minilm\"):\n",
    "    \"\"\"\n",
    "    Génère les embeddings pour une liste de textes via Ollama.\n",
    "    Retourne une liste de vecteurs (list of lists).\n",
    "    \"\"\"\n",
    "    embeddings = []\n",
    "\n",
    "    for text in texts:\n",
    "        response = requests.post(\n",
    "            \"http://localhost:11434/api/embeddings\",\n",
    "            json={\"model\": model, \"input\": text}\n",
    "        )\n",
    "        data = response.json()\n",
    "        embeddings.append(data[\"embedding\"])\n",
    "    return embeddings\n"
   ]
  },
  {
   "cell_type": "markdown",
   "id": "0d84da42",
   "metadata": {},
   "source": [
    "### Géneration des embeddings pour chaque chunks"
   ]
  },
  {
   "cell_type": "code",
   "execution_count": 16,
   "id": "407d99ec",
   "metadata": {},
   "outputs": [],
   "source": [
    "# Exemple : création d'IDs uniques\n",
    "df[\"chunk_id\"] = [f\"doc_{i}\" for i in range(len(df))]\n",
    "# Création des métadonnées (label et title)\n",
    "df[\"metadata\"] = df.apply(lambda row: {\"title\": row[\"title\"],\"label\": row[\"label\"]},axis=1)\n",
    "texts = df[\"text\"].tolist()\n",
    "metadatas = df[\"metadata\"].tolist()\n",
    "\n",
    "# Génération des embeddings avec Ollama\n",
    "embeddings = generate_embeddings(texts, model=\"all-minilm\")"
   ]
  },
  {
   "cell_type": "markdown",
   "id": "1434d2c0",
   "metadata": {},
   "source": [
    "## Ajout des embeddings à ChromaDB"
   ]
  },
  {
   "cell_type": "code",
   "execution_count": 26,
   "id": "2c1ac284",
   "metadata": {},
   "outputs": [],
   "source": [
    "# collection.upsert(\n",
    "#     ids=df[\"chunk_id\"].tolist(),\n",
    "#     documents=df[\"text\"].tolist(),\n",
    "#     embeddings=embeddings,\n",
    "#     metadatas=df[\"metadata\"].tolist()\n",
    "# )"
   ]
  },
  {
   "cell_type": "code",
   "execution_count": null,
   "id": "960b5f8c",
   "metadata": {},
   "outputs": [],
   "source": [
    "# def normalize_vector(vec):\n",
    "#     norm = np.linalg.norm(vec)\n",
    "#     return vec / norm if norm > 0 else vec\n",
    "\n",
    "# df[\"embeddings\"] = df[\"embeddings\"].apply(normalize_vector)\n"
   ]
  }
 ],
 "metadata": {
  "kernelspec": {
   "display_name": ".venv",
   "language": "python",
   "name": "python3"
  },
  "language_info": {
   "codemirror_mode": {
    "name": "ipython",
    "version": 3
   },
   "file_extension": ".py",
   "mimetype": "text/x-python",
   "name": "python",
   "nbconvert_exporter": "python",
   "pygments_lexer": "ipython3",
   "version": "3.12.3"
  }
 },
 "nbformat": 4,
 "nbformat_minor": 5
}
